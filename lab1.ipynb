{
 "cells": [
  {
   "cell_type": "code",
   "execution_count": 60,
   "metadata": {},
   "outputs": [],
   "source": [
    "from keras.datasets import mnist\n",
    "import numpy as np"
   ]
  },
  {
   "cell_type": "code",
   "execution_count": 61,
   "metadata": {},
   "outputs": [],
   "source": [
    "(x_train, y_train), (x_test, y_test) = mnist.load_data()"
   ]
  },
  {
   "cell_type": "code",
   "execution_count": 62,
   "metadata": {},
   "outputs": [],
   "source": [
    "X = np.concatenate((x_train,x_test), axis=0)\n",
    "y = np.concatenate((y_train,y_test), axis=0)"
   ]
  },
  {
   "cell_type": "code",
   "execution_count": 63,
   "metadata": {},
   "outputs": [],
   "source": [
    "def Func(image):\n",
    "    for i in range(image.shape[0]):\n",
    "        for j in range(image.shape[1]):\n",
    "            if image[i][j] >= 127:\n",
    "                image[i][j] = 1\n",
    "            else:\n",
    "                image[i][j] = 0\n",
    "    return image"
   ]
  },
  {
   "cell_type": "code",
   "execution_count": 64,
   "metadata": {},
   "outputs": [],
   "source": [
    "import random\n",
    "etalons = []\n",
    "for i in range(10):\n",
    "    index = random.choice(np.argwhere(y == i))[0]\n",
    "    etalons.append(Func(X[index]))"
   ]
  },
  {
   "cell_type": "code",
   "execution_count": 65,
   "metadata": {},
   "outputs": [
    {
     "data": {
      "text/plain": [
       "Text(0.5, 1.0, 'etalon xor noise')"
      ]
     },
     "execution_count": 65,
     "metadata": {},
     "output_type": "execute_result"
    },
    {
     "data": {
      "image/png": "[encoded data removed]",
      "text/plain": [
       "<Figure size 1080x360 with 3 Axes>"
      ]
     },
     "metadata": {
      "needs_background": "light"
     },
     "output_type": "display_data"
    }
   ],
   "source": [
    "import matplotlib.pyplot as plt\n",
    "fig, axes = plt.subplots(ncols = 3, figsize = (15,5))\n",
    "\n",
    "n = 8\n",
    "axes[0].imshow(etalons[n], cmap = 'binary')\n",
    "axes[0].set_title(\"etalon n = {}\".format(n))\n",
    "\n",
    "p = 0.6\n",
    "noise = np.array(np.random.choice([0,1], size = (28,28), p = [1-p,p]), dtype = \"uint8\")\n",
    "axes[1].imshow(noise, cmap = 'binary')\n",
    "axes[1].set_title(\"noise p = {}\".format(p))\n",
    "\n",
    "axes[2].imshow(etalons[n] ^ noise, cmap = 'binary')\n",
    "axes[2].set_title(\"etalon xor noise\")"
   ]
  },
  {
   "cell_type": "code",
   "execution_count": 66,
   "metadata": {},
   "outputs": [
    {
     "name": "stdout",
     "output_type": "stream",
     "text": [
      "Recognition result: 8\n"
     ]
    }
   ],
   "source": [
    "vec = []\n",
    "for k in range(10):\n",
    "    s = 0\n",
    "    for i in range(28):\n",
    "        for j in range(28):\n",
    "            s += (etalons[n][i][j] ^ noise[i][j] ^ etalons[k][i][j]) * np.log(p) + (1 ^ etalons[n][i][j] ^ noise[i][j] ^ etalons[k][i][j]) * np.log(1 - p)\n",
    "    vec.append(s)\n",
    "\n",
    "print(\"Recognition result:\", np.argmax(vec))"
   ]
  },
  {
   "cell_type": "code",
   "execution_count": 67,
   "metadata": {},
   "outputs": [
    {
     "data": {
      "text/plain": [
       "[-553.3476347893082,\n",
       " -544.4274024109287,\n",
       " -544.0219373028206,\n",
       " -546.4547279514695,\n",
       " -547.2656581676858,\n",
       " -550.9148441406593,\n",
       " -546.0492628433614,\n",
       " -544.8328675190369,\n",
       " -531.4525189514677,\n",
       " -546.0492628433614]"
      ]
     },
     "execution_count": 67,
     "metadata": {},
     "output_type": "execute_result"
    }
   ],
   "source": [
    "vec"
   ]
  }
 ],
 "metadata": {
  "kernelspec": {
   "display_name": "Python 3",
   "language": "python",
   "name": "python3"
  },
  "language_info": {
   "codemirror_mode": {
    "name": "ipython",
    "version": 3
   },
   "file_extension": ".py",
   "mimetype": "text/x-python",
   "name": "python",
   "nbconvert_exporter": "python",
   "pygments_lexer": "ipython3",
   "version": "3.7.4"
  }
 },
 "nbformat": 4,
 "nbformat_minor": 2
}
